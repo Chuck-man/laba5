{
 "cells": [
  {
   "cell_type": "code",
   "execution_count": 1,
   "metadata": {},
   "outputs": [
    {
     "name": "stderr",
     "output_type": "stream",
     "text": [
      "C:\\Users\\sgold\\AppData\\Local\\Packages\\PythonSoftwareFoundation.Python.3.10_qbz5n2kfra8p0\\LocalCache\\local-packages\\Python310\\site-packages\\tqdm\\auto.py:22: TqdmWarning: IProgress not found. Please update jupyter and ipywidgets. See https://ipywidgets.readthedocs.io/en/stable/user_install.html\n",
      "  from .autonotebook import tqdm as notebook_tqdm\n"
     ]
    }
   ],
   "source": [
    "import numpy as np\n",
    "import pandas as pd\n",
    "import matplotlib.pyplot as plt\n",
    "import cv2\n",
    "import os\n",
    "import glob\n",
    "import random\n",
    "\n",
    "import torch.nn as nn\n",
    "import torch\n",
    "import torch.optim as optim\n",
    "import torch.nn.functional as F\n",
    "from sklearn.model_selection import train_test_split\n",
    "from torchvision import datasets, models, transforms\n",
    "from torch.utils.data import DataLoader, Dataset"
   ]
  },
  {
   "cell_type": "code",
   "execution_count": 2,
   "metadata": {},
   "outputs": [],
   "source": [
    "learning_rate = 0.001\n",
    "batch_size = 10\n",
    "epochs = 10\n",
    "\n",
    "device = 'cuda' if torch.cuda.is_available() else 'cpu'\n",
    "\n",
    "torch.manual_seed(1234)\n",
    "if device =='cuda':\n",
    "    torch.cuda.manual_seed_all(1234)"
   ]
  },
  {
   "cell_type": "code",
   "execution_count": 3,
   "metadata": {},
   "outputs": [],
   "source": [
    "train_path = 'C:/Users/sgold/laba5/train'\n",
    "test_path = 'C:/Users/sgold/laba5/test'\n",
    "val_path = 'C:/Users/sgold/laba5/val'\n",
    "path_to_dataset=r\"C:/Users/sgold/laba5/dataset/\"\n",
    "\n",
    "df = pd.read_csv(os.path.join(path_to_dataset, \"C:/Users/sgold/laba5/dataset_csv.csv\"), header=None, delimiter=\";\", names=['path_to_image', 'label'])\n",
    "if not os.path.isdir(train_path):\n",
    "    os.mkdir(train_path)\n",
    "\n",
    "if not os.path.isdir(test_path):\n",
    "    os.mkdir(test_path)\n",
    "\n",
    "if not os.path.isdir(val_path):\n",
    "    os.mkdir(val_path)\n",
    "\n",
    "def train_loading(df, path, i):\n",
    "    image_path = df.path_to_image[i]\n",
    "    image = cv2.imread(image_path)\n",
    "    cv2.imwrite(os.path.join(path, f'{df.label[i]}.{i}.jpg'), image)\n",
    "\n",
    "def test_loading(df, path, i):\n",
    "    image_path = df.path_to_image[i]\n",
    "    image = cv2.imread(image_path)\n",
    "    if i - 880 > 109: \n",
    "        i = i - 1870\n",
    "    else:\n",
    "        i = i - 880\n",
    "    cv2.imwrite(os.path.join(path, f'{i}.jpg'), image)\n",
    "\n",
    "for i in range(880):\n",
    "    train_loading(df, train_path, i)\n",
    "\n",
    "for i in range(880, 990):\n",
    "    train_loading(df, test_path, i)\n",
    "\n",
    "for i in range(990, 1100):\n",
    "    train_loading(df, val_path, i)\n",
    "\n",
    "for i in range(1100, 1980):\n",
    "    train_loading(df, train_path, i)\n",
    "\n",
    "for i in range(1980, 2090):\n",
    "    train_loading(df, test_path, i)\n",
    "\n",
    "for i in range(2090, 2200):\n",
    "    train_loading(df, val_path, i)\n",
    "    \n",
    "\n",
    "train_list = glob.glob(os.path.join(train_path,'*.jpg'))\n",
    "test_list = glob.glob(os.path.join(test_path, '*.jpg'))\n",
    "train_list, val_list = train_test_split(train_list, test_size=0.1)\n",
    "    "
   ]
  }
 ],
 "metadata": {
  "kernelspec": {
   "display_name": "Python 3",
   "language": "python",
   "name": "python3"
  },
  "language_info": {
   "codemirror_mode": {
    "name": "ipython",
    "version": 3
   },
   "file_extension": ".py",
   "mimetype": "text/x-python",
   "name": "python",
   "nbconvert_exporter": "python",
   "pygments_lexer": "ipython3",
   "version": "3.10.9"
  },
  "orig_nbformat": 4,
  "vscode": {
   "interpreter": {
    "hash": "bda484c92a0c404c6812e073e3612c3bb7dbf4b8a9cd7e6d7aa247e42ff4b21f"
   }
  }
 },
 "nbformat": 4,
 "nbformat_minor": 2
}
